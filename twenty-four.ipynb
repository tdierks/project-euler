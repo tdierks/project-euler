{
 "cells": [
  {
   "cell_type": "markdown",
   "metadata": {},
   "source": [
    "http://wordplay.blogs.nytimes.com/2015/09/07/24/\n",
    "\n",
    "The numbers are:  1 3 4 6 ; find 24\n",
    "The numbers are:  1 1 5 8 ; find 10\n",
    "\n",
    "Operations: + – × /"
   ]
  },
  {
   "cell_type": "code",
   "execution_count": 1,
   "metadata": {
    "collapsed": false
   },
   "outputs": [],
   "source": [
    "from operator import mul, add, sub, truediv\n",
    "from itertools import product, permutations\n",
    "\n",
    "ops = [\n",
    "    [ mul, \"{a} x {b}\" ],\n",
    "    [ add, \"{a} + {b}\" ],\n",
    "    [ sub, \"{a} - {b}\" ],\n",
    "    [ lambda a, b: sub(b, a), \"{b} - {a}\" ],\n",
    "    [ truediv, \"{a} / {b}\" ],\n",
    "    [ lambda a, b: truediv(b, a), \"{b} / {a}\" ],\n",
    "]\n",
    "\n",
    "# Implement search for all possible combinations with an operand stack (starting with input values in some order)\n",
    "# and an operator stack. Apply the operators from the stack to the last two values, pushing on the result, until\n",
    "# there is just one value remaing \n",
    "\n",
    "def calc_result(values, ops):\n",
    "    values = list(values)\n",
    "    ops = list(ops)\n",
    "    top_str = str(values[-1])\n",
    "    while len(values) > 1:\n",
    "        a = values.pop()\n",
    "        b = values.pop()\n",
    "        op = ops.pop()\n",
    "        try:\n",
    "            r = op[0](a, b)\n",
    "            top_str = \"({})\".format(op[1].format(a=top_str, b=str(b)))\n",
    "            values.append(r)\n",
    "        except ZeroDivisionError:\n",
    "            return None, \"\"\n",
    "    return values[0], top_str\n",
    "\n",
    "# Example use: print \"10 = {}\".format(find_op([1, 1, 5, 8], 10))\n",
    "def find_op(values, answer):\n",
    "    for ordered_values in permutations(values):\n",
    "        for operations in product(ops, repeat=len(values)-1):\n",
    "            result, formula = calc_result(ordered_values, operations)\n",
    "            if result == answer:\n",
    "                return formula\n",
    "            if result and abs(result - answer) < .001:\n",
    "                return \"~ {}\".format(formula)\n",
    "    return False"
   ]
  },
  {
   "cell_type": "code",
   "execution_count": 2,
   "metadata": {
    "collapsed": false
   },
   "outputs": [
    {
     "name": "stdout",
     "output_type": "stream",
     "text": [
      "10 = (8 / (1 - (1 / 5)))\n",
      "24 = (((4 + 1) x 6) / 3)\n"
     ]
    }
   ],
   "source": [
    "print \"10 = {}\".format(find_op([1, 1, 5, 8], 10))\n",
    "print \"24 = {}\".format(find_op([1, 3, 4, 6], 10))"
   ]
  },
  {
   "cell_type": "code",
   "execution_count": 3,
   "metadata": {
    "collapsed": false
   },
   "outputs": [
    {
     "name": "stdout",
     "output_type": "stream",
     "text": [
      "1 = (((4 - 6) + 3) x 1)\n",
      "2 = (((4 / 6) x 3) x 1)\n",
      "3 = (((4 / 6) x 3) + 1)\n",
      "4 = (((6 - 4) + 3) - 1)\n",
      "5 = (((6 - 4) + 3) x 1)\n",
      "6 = (((6 - 4) x 3) x 1)\n",
      "7 = (((6 + 4) - 3) x 1)\n",
      "8 = (((6 x 4) / 3) x 1)\n",
      "9 = (((6 x 4) / 3) + 1)\n",
      "10 = (((4 + 1) x 6) / 3)\n",
      "11 = (((6 - 3) x 4) - 1)\n",
      "12 = (((6 + 4) + 3) - 1)\n",
      "13 = (((6 + 4) + 3) x 1)\n",
      "14 = (((6 + 4) + 3) + 1)\n",
      "15 = (((6 x 3) - 4) + 1)\n",
      "16 = (((6 - 3) + 1) x 4)\n",
      "17 = (((4 x 3) + 6) - 1)\n",
      "18 = (((4 x 3) + 6) x 1)\n",
      "19 = (((4 x 3) + 6) + 1)\n",
      "20 = (((6 x 4) - 3) - 1)\n",
      "21 = (((6 x 4) - 3) x 1)\n",
      "22 = (((6 x 4) - 3) + 1)\n",
      "23 = (((6 x 3) + 4) + 1)\n",
      "24 = (6 / (1 - (3 / 4)))\n",
      "25 = (((6 + 1) x 4) - 3)\n",
      "26 = (((6 x 4) + 3) - 1)\n",
      "27 = (((6 x 4) + 3) x 1)\n",
      "28 = (((6 x 4) + 3) + 1)\n",
      "29 = (((6 + 4) x 3) - 1)\n",
      "30 = (((6 + 4) x 3) x 1)\n",
      "31 = (((6 + 4) x 3) + 1)\n",
      "32 = (((6 + 3) - 1) x 4)\n",
      "33 = (((6 + 4) + 1) x 3)\n",
      "34: none\n",
      "35 = (((6 + 3) x 4) - 1)\n",
      "36 = (((6 + 3) x 4) x 1)\n",
      "37 = (((6 + 3) x 4) + 1)\n",
      "38: none\n",
      "39: none\n",
      "40 = (((6 + 3) + 1) x 4)\n",
      "41 = (((4 + 3) x 6) - 1)\n",
      "42 = (((4 + 3) x 6) x 1)\n",
      "43 = (((4 + 3) x 6) + 1)\n",
      "44: none\n",
      "45: none\n",
      "46: none\n",
      "47: none\n",
      "48 = (((3 - 1) x 6) x 4)\n",
      "49: none\n"
     ]
    }
   ],
   "source": [
    "values = [1, 3, 4, 6]\n",
    "for result in range(1,50):\n",
    "    eq = find_op(values, result)\n",
    "    if eq:\n",
    "        print \"{} = {}\".format(result, eq)\n",
    "    else:\n",
    "        print \"{}: none\".format(result)\n"
   ]
  },
  {
   "cell_type": "code",
   "execution_count": 4,
   "metadata": {
    "collapsed": false
   },
   "outputs": [
    {
     "name": "stdout",
     "output_type": "stream",
     "text": [
      "17 = (((5 / 6) + 2) x 6)\n"
     ]
    }
   ],
   "source": [
    "print \"17 = {}\".format(find_op([6, 6, 5, 2], 17))"
   ]
  },
  {
   "cell_type": "code",
   "execution_count": 7,
   "metadata": {
    "collapsed": false
   },
   "outputs": [
    {
     "name": "stdout",
     "output_type": "stream",
     "text": [
      "0 = (1 - ((3 / 2) / 5))\n"
     ]
    }
   ],
   "source": [
    "print \"0 = {}\".format(find_op([1, 5, 2, 3], 0.7))"
   ]
  },
  {
   "cell_type": "code",
   "execution_count": null,
   "metadata": {
    "collapsed": true
   },
   "outputs": [],
   "source": []
  }
 ],
 "metadata": {
  "anaconda-cloud": {},
  "kernelspec": {
   "display_name": "Python [Root]",
   "language": "python",
   "name": "Python [Root]"
  },
  "language_info": {
   "codemirror_mode": {
    "name": "ipython",
    "version": 2
   },
   "file_extension": ".py",
   "mimetype": "text/x-python",
   "name": "python",
   "nbconvert_exporter": "python",
   "pygments_lexer": "ipython2",
   "version": "2.7.12"
  }
 },
 "nbformat": 4,
 "nbformat_minor": 0
}
